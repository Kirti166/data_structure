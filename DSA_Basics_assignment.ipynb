{
 "cells": [
  {
   "cell_type": "code",
   "execution_count": 1,
   "id": "4939cfde",
   "metadata": {},
   "outputs": [
    {
     "name": "stdout",
     "output_type": "stream",
     "text": [
      "[(1, 6), (2, 5), (2, 5), (3, 4), (4, 3)]\n"
     ]
    }
   ],
   "source": [
    "#  Q1. Write a program to find all pairs of an integer array whose sum is equal to a given number?\n",
    "\n",
    "\n",
    "def find_pairs(array, sum):\n",
    "  pairs= []\n",
    "  for i in range(len(array)):\n",
    "   for j in range(i+1, len(array)):\n",
    "    if array[i]+ array[j] == sum:\n",
    "     pairs.append((array[i],array[j]))\n",
    "  return pairs\n",
    "\n",
    "a= [1,2,3,4,5,6,8,5,3]\n",
    "s= 7\n",
    "sum_pairs= find_pairs(a,s)\n",
    "print(sum_pairs)"
   ]
  },
  {
   "cell_type": "code",
   "execution_count": 2,
   "id": "692dcf1f",
   "metadata": {},
   "outputs": [
    {
     "name": "stdout",
     "output_type": "stream",
     "text": [
      "[8, 7, 6, 5, 4, 3, 2, 1]\n"
     ]
    }
   ],
   "source": [
    "# Q2. Write a program to reverse an array in place? In place means you cannot create a new array. You have to update the original array.\n",
    "\n",
    "def reverse_array(array):\n",
    "  s = 0\n",
    "  e= len(array)-1\n",
    "  while s<e:\n",
    "    array[s],array[e]= array[e],array[s]\n",
    "    s+=1\n",
    "    e-=1\n",
    "\n",
    "array= [1,2,3,4,5,6,7,8]\n",
    "reverse_array(array)\n",
    "print(array)\n"
   ]
  },
  {
   "cell_type": "code",
   "execution_count": 3,
   "id": "8bc7de84",
   "metadata": {},
   "outputs": [
    {
     "name": "stdout",
     "output_type": "stream",
     "text": [
      "True\n"
     ]
    }
   ],
   "source": [
    "#  Q3. Write a program to check if two strings are a rotation of each other?\n",
    "\n",
    "def are_rotations(string1, string2):\n",
    "    if len(string1) != len(string2):\n",
    "        return False\n",
    "    temp = string1 + string1\n",
    "    if string2 in temp:\n",
    "        return True\n",
    "    return False\n",
    "\n",
    "\n",
    "string1 = \"abcd\"\n",
    "string2 = \"cdab\"\n",
    "result = are_rotations(string1, string2)\n",
    "print(result)\n"
   ]
  },
  {
   "cell_type": "code",
   "execution_count": 4,
   "id": "5b7203f0",
   "metadata": {},
   "outputs": [
    {
     "name": "stdout",
     "output_type": "stream",
     "text": [
      "First non-repeated character: b\n"
     ]
    }
   ],
   "source": [
    "# Q4. Write a program to print the first non-repeated character from a string?\n",
    "\n",
    "def first_non_repeated_character(string):\n",
    "    char_count = [0] * 256  \n",
    "    order = []\n",
    "\n",
    "    for char in string:\n",
    "        char_count[ord(char)] += 1\n",
    "        if char not in order:\n",
    "            order.append(char)\n",
    "\n",
    "    for char in order:\n",
    "        if char_count[ord(char)] == 1:\n",
    "            return char\n",
    "\n",
    "    return None\n",
    "\n",
    "string = \"aabccdeeff\"\n",
    "non_repeated = first_non_repeated_character(string)\n",
    "if result:\n",
    "    print(\"First non-repeated character:\", non_repeated)\n",
    "else:\n",
    "    print(\"No non-repeated character found\")\n"
   ]
  },
  {
   "cell_type": "code",
   "execution_count": 5,
   "id": "75868526",
   "metadata": {},
   "outputs": [
    {
     "name": "stdout",
     "output_type": "stream",
     "text": [
      "Move disk 1 from A to C\n",
      "Move disk 2 from A to B\n",
      "Move disk 1 from C to B\n",
      "Move disk 3 from A to C\n",
      "Move disk 1 from B to A\n",
      "Move disk 2 from B to C\n",
      "Move disk 1 from A to C\n"
     ]
    }
   ],
   "source": [
    "# Q5. Read about the Tower of Hanoi algorithm. Write a program to implement it.\n",
    "\n",
    "def tower_of_hanoi(n, source, destination, auxiliary):\n",
    "    if n > 0:\n",
    "        \n",
    "        tower_of_hanoi(n - 1, source, auxiliary, destination)\n",
    "        print(f\"Move disk {n} from {source} to {destination}\")\n",
    "\n",
    "        tower_of_hanoi(n - 1, auxiliary, destination, source)\n",
    "\n",
    "num_disks = 3\n",
    "src = \"A\"\n",
    "dest = \"C\"\n",
    "auxi = \"B\"\n",
    "\n",
    "tower_of_hanoi(num_disks, src, dest, auxi)\n"
   ]
  },
  {
   "cell_type": "code",
   "execution_count": 6,
   "id": "f2330183",
   "metadata": {},
   "outputs": [
    {
     "name": "stdout",
     "output_type": "stream",
     "text": [
      "Prefix expression: + 3 * 4 2\n"
     ]
    }
   ],
   "source": [
    "#  Q6. Read about infix, prefix, and postfix expressions. Write a program to convert postfix to prefix expression.\n",
    "\n",
    "class Stack:\n",
    "    def __init__(self):\n",
    "        self.items = []\n",
    "\n",
    "    def is_empty(self):\n",
    "        return len(self.items) == 0\n",
    "\n",
    "    def push(self, item):\n",
    "        self.items.append(item)\n",
    "\n",
    "    def pop(self):\n",
    "        if self.is_empty():\n",
    "            raise IndexError(\"Stack is empty\")\n",
    "        return self.items.pop()\n",
    "\n",
    "def postfix_to_prefix(expression):\n",
    "    stack = Stack()\n",
    "\n",
    "    for token in expression.split():\n",
    "        if token.isdigit():\n",
    "            stack.push(token)\n",
    "        else:\n",
    "            operand2 = stack.pop()\n",
    "            operand1 = stack.pop()\n",
    "            prefix_expression = token + \" \" + operand1 + \" \" + operand2\n",
    "            stack.push(prefix_expression)\n",
    "\n",
    "    return stack.pop()\n",
    "\n",
    "postfix_expr = \"3 4 2 * +\"\n",
    "prefix_expr = postfix_to_prefix(postfix_expr)\n",
    "print(\"Prefix expression:\", prefix_expr)"
   ]
  },
  {
   "cell_type": "code",
   "execution_count": 7,
   "id": "56a02821",
   "metadata": {},
   "outputs": [
    {
     "name": "stdout",
     "output_type": "stream",
     "text": [
      "((A-(B/C))*((A/K)-L))\n"
     ]
    }
   ],
   "source": [
    "#  Q7. Write a program to convert prefix expression to infix expression.\n",
    "\n",
    "def prefixToInfix(prefix):\n",
    "    stack = []\n",
    "     \n",
    "    # read prefix in reverse order\n",
    "    i = len(prefix) - 1\n",
    "    while i >= 0:\n",
    "        if not isOperator(prefix[i]):\n",
    "             \n",
    "            # symbol is operand\n",
    "            stack.append(prefix[i])\n",
    "            i -= 1\n",
    "        else:\n",
    "           \n",
    "            # symbol is operator\n",
    "            str = \"(\" + stack.pop() + prefix[i] + stack.pop() + \")\"\n",
    "            stack.append(str)\n",
    "            i -= 1\n",
    "     \n",
    "    return stack.pop()\n",
    " \n",
    "def isOperator(c):\n",
    "    if c == \"*\" or c == \"+\" or c == \"-\" or c == \"/\" or c == \"^\" or c == \"(\" or c == \")\":\n",
    "        return True\n",
    "    else:\n",
    "        return False\n",
    "    \n",
    "if __name__==\"__main__\":\n",
    "    str = \"*-A/BC-/AKL\"\n",
    "    print(prefixToInfix(str))"
   ]
  },
  {
   "cell_type": "code",
   "execution_count": 8,
   "id": "11e546e3",
   "metadata": {},
   "outputs": [
    {
     "name": "stdout",
     "output_type": "stream",
     "text": [
      "Closed\n",
      "Not closed\n"
     ]
    }
   ],
   "source": [
    "# Q8. Write a program to check if all the brackets are closed in a given code snippet.\n",
    "\n",
    "def areBracketsBalanced(expr):\n",
    "    stack = []\n",
    "    \n",
    "    for char in expr:\n",
    "        if char in [\"(\", \"{\", \"[\"]:\n",
    "            stack.append(char)\n",
    "        else:\n",
    "            if not stack:\n",
    "                return False\n",
    "            current_char = stack.pop()\n",
    "            if current_char == '(':\n",
    "                if char != \")\":\n",
    "                    return False\n",
    "            if current_char == '{':\n",
    "                if char != \"}\":\n",
    "                    return False\n",
    "            if current_char == '[':\n",
    "                if char != \"]\":\n",
    "                    return False\n",
    " \n",
    "    if stack:\n",
    "        return False\n",
    "    return True\n",
    " \n",
    "if __name__ == \"__main__\":\n",
    "    expr = \"{()}[]\"\n",
    "    expr2 = \"{([])}(}\"\n",
    " \n",
    "    if areBracketsBalanced(expr):\n",
    "        print(\"Closed\")\n",
    "    else:\n",
    "        print(\"Not closed\")\n",
    "\n",
    "    if areBracketsBalanced(expr2):\n",
    "        print(\"Closed\")\n",
    "    else:\n",
    "        print(\"Not closed\")"
   ]
  },
  {
   "cell_type": "code",
   "execution_count": 9,
   "id": "d987c02b",
   "metadata": {},
   "outputs": [
    {
     "name": "stdout",
     "output_type": "stream",
     "text": [
      "Original stack: [1, 2, 3, 4]\n",
      "Reversed stack: [4, 3, 2, 1]\n"
     ]
    }
   ],
   "source": [
    "#  Q9. Write a program to reverse a stack.\n",
    "\n",
    "class Stack:\n",
    "    def __init__(self):\n",
    "        self.items = []\n",
    "\n",
    "    def is_empty(self):\n",
    "        return len(self.items) == 0\n",
    "\n",
    "    def push(self, item):\n",
    "        self.items.append(item)\n",
    "\n",
    "    def pop(self):\n",
    "        if self.is_empty():\n",
    "            raise IndexError(\"Stack is empty\")\n",
    "        return self.items.pop()\n",
    "\n",
    "def reverse_stack(stack):\n",
    "    auxiliary_stack = Stack()\n",
    "    while not stack.is_empty():\n",
    "        item = stack.pop()\n",
    "        auxiliary_stack.push(item)\n",
    "    return auxiliary_stack\n",
    "\n",
    "stack = Stack()\n",
    "stack.push(1)\n",
    "stack.push(2)\n",
    "stack.push(3)\n",
    "stack.push(4)\n",
    "\n",
    "print(\"Original stack:\", stack.items)\n",
    "\n",
    "reversed_stack = reverse_stack(stack)\n",
    "\n",
    "print(\"Reversed stack:\", reversed_stack.items)\n"
   ]
  },
  {
   "cell_type": "code",
   "execution_count": 10,
   "id": "b5d6a347",
   "metadata": {},
   "outputs": [
    {
     "name": "stdout",
     "output_type": "stream",
     "text": [
      "Stack: [3, 5, 1, 2]\n",
      "Smallest number: 1\n"
     ]
    }
   ],
   "source": [
    "# Q10. Write a program to find the smallest number using a stack.\n",
    "\n",
    "class Stack:\n",
    "    def __init__(self):\n",
    "        self.items = []\n",
    "        self.min_value = float('inf')\n",
    "\n",
    "    def is_empty(self):\n",
    "        return len(self.items) == 0\n",
    "\n",
    "    def push(self, item):\n",
    "        if self.is_empty() or item < self.min_value:\n",
    "            self.min_value = item\n",
    "        self.items.append(item)\n",
    "\n",
    "    def pop(self):\n",
    "        if self.is_empty():\n",
    "            raise IndexError(\"Stack is empty\")\n",
    "        return self.items.pop()\n",
    "\n",
    "    def get_min(self):\n",
    "        if self.is_empty():\n",
    "            raise IndexError(\"Stack is empty\")\n",
    "        return self.min_value\n",
    "\n",
    "stack = Stack()\n",
    "stack.push(3)\n",
    "stack.push(5)\n",
    "stack.push(1)\n",
    "stack.push(2)\n",
    "\n",
    "print(\"Stack:\", stack.items)\n",
    "print(\"Smallest number:\", stack.get_min())\n"
   ]
  }
 ],
 "metadata": {
  "kernelspec": {
   "display_name": "Python 3 (ipykernel)",
   "language": "python",
   "name": "python3"
  },
  "language_info": {
   "codemirror_mode": {
    "name": "ipython",
    "version": 3
   },
   "file_extension": ".py",
   "mimetype": "text/x-python",
   "name": "python",
   "nbconvert_exporter": "python",
   "pygments_lexer": "ipython3",
   "version": "3.10.9"
  }
 },
 "nbformat": 4,
 "nbformat_minor": 5
}
